{
  "nbformat": 4,
  "nbformat_minor": 0,
  "metadata": {
    "colab": {
      "provenance": [],
      "authorship_tag": "ABX9TyNBTa0p9+zIonZlzEPMAIaP",
      "include_colab_link": true
    },
    "kernelspec": {
      "name": "python3",
      "display_name": "Python 3"
    },
    "language_info": {
      "name": "python"
    }
  },
  "cells": [
    {
      "cell_type": "markdown",
      "metadata": {
        "id": "view-in-github",
        "colab_type": "text"
      },
      "source": [
        "<a href=\"https://colab.research.google.com/github/Abem-S/week4_ai/blob/main/code_completion.ipynb\" target=\"_parent\"><img src=\"https://colab.research.google.com/assets/colab-badge.svg\" alt=\"Open In Colab\"/></a>"
      ]
    },
    {
      "cell_type": "code",
      "source": [
        "#manual version\n",
        "def sort_dict_list_manual(data, sort_key):\n",
        "    \"\"\"\n",
        "    Sorts a list of dictionaries by a specified key.\n",
        "\n",
        "    Args:\n",
        "        data: A list of dictionaries to be sorted.\n",
        "        sort_key: The key to sort the dictionaries by.\n",
        "\n",
        "    Returns:\n",
        "        A new list containing the dictionaries from the input list, sorted\n",
        "        by the specified key. Dictionaries missing the key are ignored.\n",
        "    \"\"\"\n",
        "    try:\n",
        "        return sorted(data, key=lambda x: x[sort_key])\n",
        "    except KeyError:\n",
        "        print(f\"Warning: Some dictionaries are missing the key '{sort_key}'\")\n",
        "        return sorted([d for d in data if sort_key in d], key=lambda x: x[sort_key])\n",
        "sample_data = [\n",
        "    {'name': 'Alice', 'age': 30},\n",
        "    {'name': 'Bob', 'age': 25},\n",
        "    {'name': 'Charlie', 'city': 'New York'},\n",
        "    {'name': 'David', 'age': 35}\n",
        "]\n",
        "\n",
        "print(sort_dict_list_manual(sample_data, 'age'))\n",
        "\n"
      ],
      "metadata": {
        "colab": {
          "base_uri": "https://localhost:8080/"
        },
        "id": "38VX_pxKANQD",
        "outputId": "9d9d9d8d-648d-4250-e0dd-f0cc396ff37f"
      },
      "execution_count": 4,
      "outputs": [
        {
          "output_type": "stream",
          "name": "stdout",
          "text": [
            "Warning: Some dictionaries are missing the key 'age'\n",
            "[{'name': 'Bob', 'age': 25}, {'name': 'Alice', 'age': 30}, {'name': 'David', 'age': 35}]\n"
          ]
        }
      ]
    },
    {
      "cell_type": "code",
      "execution_count": 2,
      "metadata": {
        "colab": {
          "base_uri": "https://localhost:8080/"
        },
        "id": "6wKtp5dmrXCM",
        "outputId": "9fbafa66-e3bb-4e19-cee2-16482eaea065"
      },
      "outputs": [
        {
          "output_type": "stream",
          "name": "stdout",
          "text": [
            "Sorted by age:\n",
            "[{'name': 'Bob', 'age': 25}, {'name': 'Alice', 'age': 30}, {'name': 'David', 'age': 35}, {'name': 'Charlie', 'city': 'New York'}, {'name': 'Eve'}]\n",
            "\n",
            "Sorted by name:\n",
            "[{'name': 'Alice', 'age': 30}, {'name': 'Bob', 'age': 25}, {'name': 'Charlie', 'city': 'New York'}, {'name': 'David', 'age': 35}, {'name': 'Eve'}]\n",
            "\n",
            "Sorted by city:\n",
            "[{'name': 'Charlie', 'city': 'New York'}, {'name': 'Alice', 'age': 30}, {'name': 'Bob', 'age': 25}, {'name': 'David', 'age': 35}, {'name': 'Eve'}]\n"
          ]
        }
      ],
      "source": [
        "#ai generated version using gemini here in colab\n",
        "def sort_dict_list(data, sort_key):\n",
        "    \"\"\"\n",
        "    Sorts a list of dictionaries by a specified key.\n",
        "\n",
        "    Args:\n",
        "        data: A list of dictionaries.\n",
        "        sort_key: The key to sort by.\n",
        "\n",
        "    Returns:\n",
        "        A new list containing the dictionaries sorted by the specified key.\n",
        "        Dictionaries missing the sort key will be placed at the end.\n",
        "    \"\"\"\n",
        "    def get_sort_value(item):\n",
        "        value = item.get(sort_key)\n",
        "        if value is None:\n",
        "            return (1, None)  # Tuple for missing key, sorted last\n",
        "        elif isinstance(value, (int, float)):\n",
        "            return (0, value) # Tuple for numeric values\n",
        "        else:\n",
        "            return (0, str(value)) # Tuple for other types, converted to string\n",
        "\n",
        "    return sorted(data, key=get_sort_value)\n",
        "\n",
        "# Example usage:\n",
        "sample_list = [\n",
        "    {\"name\": \"Alice\", \"age\": 30},\n",
        "    {\"name\": \"Bob\", \"age\": 25},\n",
        "    {\"name\": \"Charlie\", \"city\": \"New York\"},\n",
        "    {\"name\": \"David\", \"age\": 35},\n",
        "    {\"name\": \"Eve\"}\n",
        "]\n",
        "\n",
        "sorted_list = sort_dict_list(sample_list, \"age\")\n",
        "print(\"Sorted by age:\")\n",
        "print(sorted_list)\n",
        "\n",
        "sorted_list_name = sort_dict_list(sample_list, \"name\")\n",
        "print(\"\\nSorted by name:\")\n",
        "print(sorted_list_name)\n",
        "\n",
        "sorted_list_city = sort_dict_list(sample_list, \"city\")\n",
        "print(\"\\nSorted by city:\")\n",
        "print(sorted_list_city)"
      ]
    },
    {
      "cell_type": "code",
      "source": [],
      "metadata": {
        "id": "CnwjhvtAARDB"
      },
      "execution_count": null,
      "outputs": []
    }
  ]
}